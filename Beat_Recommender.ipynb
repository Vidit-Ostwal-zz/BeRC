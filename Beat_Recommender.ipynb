{
  "nbformat": 4,
  "nbformat_minor": 0,
  "metadata": {
    "colab": {
      "name": "Beat Recommender.ipynb",
      "provenance": [],
      "collapsed_sections": [],
      "authorship_tag": "ABX9TyOXcxuKCrUsQPPn8bc1QbvM",
      "include_colab_link": true
    },
    "kernelspec": {
      "name": "python3",
      "display_name": "Python 3"
    },
    "language_info": {
      "name": "python"
    }
  },
  "cells": [
    {
      "cell_type": "markdown",
      "metadata": {
        "id": "view-in-github",
        "colab_type": "text"
      },
      "source": [
        "<a href=\"https://colab.research.google.com/github/Vidit-Ostwal/BeatRecommender/blob/main/Beat_Recommender.ipynb\" target=\"_parent\"><img src=\"https://colab.research.google.com/assets/colab-badge.svg\" alt=\"Open In Colab\"/></a>"
      ]
    },
    {
      "cell_type": "code",
      "execution_count": null,
      "metadata": {
        "id": "RRxOV2PzfxbN"
      },
      "outputs": [],
      "source": [
        "from google.colab import drive\n",
        "drive.mount('/content/gdrive')"
      ]
    },
    {
      "cell_type": "code",
      "source": [
        "! pip install jina"
      ],
      "metadata": {
        "id": "zkVlkfLXgj1I"
      },
      "execution_count": null,
      "outputs": []
    },
    {
      "cell_type": "code",
      "source": [
        "import os\n",
        "audio_file_name_list = os.listdir()"
      ],
      "metadata": {
        "id": "T1OK7P7JkPFF"
      },
      "execution_count": 28,
      "outputs": []
    },
    {
      "cell_type": "code",
      "source": [
        "from jina import Document, DocumentArray, Flow\n",
        "docs = DocumentArray.from_files(audio_file_name_list)"
      ],
      "metadata": {
        "id": "hjm8JBOPglIh"
      },
      "execution_count": 23,
      "outputs": []
    },
    {
      "cell_type": "code",
      "source": [
        "# Createing a Flow to process our Documents\n",
        "flow = (\n",
        "    Flow()\n",
        "    # Add encoder, to convert text to vector embeddings\n",
        "    .add(uses=\"jinahub://ASTransformer_encoder\", name=\"encoder\", install_requirements=True)\n",
        "\n",
        "    # Add indexer\n",
        "    # When indexing it embeds embeddings in a graph\n",
        "    # When searching it retrieves nearest neighbor to search term\n",
        "    .add(uses=\"jinahub://SimpleIndexer\", install_requirements=True, name=\"indexer\")\n",
        ")"
      ],
      "metadata": {
        "id": "aXyeHgPZn5l-"
      },
      "execution_count": 25,
      "outputs": []
    },
    {
      "cell_type": "code",
      "source": [
        "# Open Flow as context manager\n",
        "with flow:\n",
        "    # Index our DocumentArray of Squid Game Documents\n",
        "    flow.index(inputs=docs)\n",
        "    # Create a Document containing our search term. In this case, we take it from user's input\n",
        "    query = Document(text=input(\"Please enter your search term: \"))\n",
        "    # Search the index, return similar matches, and store in `response`\n",
        "    response = flow.search(inputs=query, return_results=True)"
      ],
      "metadata": {
        "colab": {
          "base_uri": "https://localhost:8080/",
          "height": 1000
        },
        "id": "56Y-dlvUpjnc",
        "outputId": "cb6aadbb-36d0-4c50-dacc-5600e17d6a9b"
      },
      "execution_count": 27,
      "outputs": [
        {
          "output_type": "stream",
          "name": "stderr",
          "text": [
            "\u001b[1;33mUserWarning: It looks like you are trying to import multiple python modules using `py_modules`. When using multiple python files to define an executor, the recommended practice is to structure the files in a python package, and only import the `__init__.py` file of that package. For more details, please check out the cookbook: https://docs.jina.ai/fundamentals/executor/repository-structure/\u001b[0m \u001b[1;30m(raised from /usr/local/lib/python3.7/dist-packages/jina/jaml/helper.py:245)\u001b[0m\n"
          ]
        },
        {
          "output_type": "stream",
          "name": "stdout",
          "text": [
            "\u001b[32m⠙\u001b[0m 2/3 waiting \u001b[33mencoder\u001b[0m to be ready...\u001b[1m\u001b[31m        encoder@589[C]:can not load the executor from /root/.jina/hub-packages/72t8ssc5/config.yml\u001b[0m\n",
            "\u001b[31m        encoder@589[E]:ExecutorFailToLoad() during <class 'jina.peapods.runtimes.zmq.zed.ZEDRuntime'> initialization\n",
            " add \"--quiet-error\" to suppress the exception details\u001b[0m\n",
            "Traceback (most recent call last):\n",
            "  File \"/usr/local/lib/python3.7/dist-packages/jina/importer.py\", line 127, in _path_import\n",
            "    spec.loader.exec_module(module)\n",
            "  File \"<frozen importlib._bootstrap_external>\", line 728, in exec_module\n",
            "  File \"<frozen importlib._bootstrap>\", line 219, in _call_with_frames_removed\n",
            "  File \"/root/.jina/hub-packages/72t8ssc5/ast_exec/ast_input.py\", line 4, in <module>\n",
            "    import ast_exec.ast_params as ast_params\n",
            "ModuleNotFoundError: No module named 'ast_exec'\n",
            "\n",
            "The above exception was the direct cause of the following exception:\n",
            "\n",
            "Traceback (most recent call last):\n",
            "  File \"/usr/local/lib/python3.7/dist-packages/jina/peapods/runtimes/request_handlers/data_request_handler.py\", line 84, in _load_executor\n",
            "    extra_search_paths=self.args.extra_search_paths,\n",
            "  File \"/usr/local/lib/python3.7/dist-packages/jina/jaml/__init__.py\", line 587, in load_config\n",
            "    else None,\n",
            "  File \"/usr/local/lib/python3.7/dist-packages/jina/jaml/helper.py\", line 254, in load_py_modules\n",
            "    PathImporter.add_modules(*mod)\n",
            "  File \"/usr/local/lib/python3.7/dist-packages/jina/importer.py\", line 152, in add_modules\n",
            "    _path_import(p)\n",
            "  File \"/usr/local/lib/python3.7/dist-packages/jina/importer.py\", line 129, in _path_import\n",
            "    raise ImportError(f'can not import module from {absolute_path}') from ex\n",
            "ImportError: can not import module from /root/.jina/hub-packages/72t8ssc5/ast_exec/ast_input.py\n",
            "\n",
            "The above exception was the direct cause of the following exception:\n",
            "\n",
            "Traceback (most recent call last):\n",
            "  File \"/usr/local/lib/python3.7/dist-packages/jina/peapods/peas/__init__.py\", line 81, in run\n",
            "    cancel_event=cancel_event,\n",
            "  File \"/usr/local/lib/python3.7/dist-packages/jina/peapods/runtimes/zmq/zed.py\", line 72, in __init__\n",
            "    self._data_request_handler = DataRequestHandler(self.args, self.logger)\n",
            "  File \"/usr/local/lib/python3.7/dist-packages/jina/peapods/runtimes/request_handlers/data_request_handler.py\", line 71, in __init__\n",
            "    self._load_executor()\n",
            "  File \"/usr/local/lib/python3.7/dist-packages/jina/peapods/runtimes/request_handlers/data_request_handler.py\", line 97, in _load_executor\n",
            "    raise ExecutorFailToLoad from ex\n",
            "jina.excepts.ExecutorFailToLoad\n",
            "\u001b[31m           Flow@63[E]:Flow is aborted due to ['encoder'] can not be started.\u001b[0m\n"
          ]
        },
        {
          "output_type": "error",
          "ename": "RuntimeFailToStart",
          "evalue": "ignored",
          "traceback": [
            "\u001b[0;31m---------------------------------------------------------------------------\u001b[0m",
            "\u001b[0;31mRuntimeFailToStart\u001b[0m                        Traceback (most recent call last)",
            "\u001b[0;32m<ipython-input-27-5aee864e58e5>\u001b[0m in \u001b[0;36m<module>\u001b[0;34m()\u001b[0m\n\u001b[1;32m      1\u001b[0m \u001b[0;31m# Open Flow as context manager\u001b[0m\u001b[0;34m\u001b[0m\u001b[0;34m\u001b[0m\u001b[0;34m\u001b[0m\u001b[0m\n\u001b[0;32m----> 2\u001b[0;31m \u001b[0;32mwith\u001b[0m \u001b[0mflow\u001b[0m\u001b[0;34m:\u001b[0m\u001b[0;34m\u001b[0m\u001b[0;34m\u001b[0m\u001b[0m\n\u001b[0m\u001b[1;32m      3\u001b[0m     \u001b[0;31m# Index our DocumentArray of Squid Game Documents\u001b[0m\u001b[0;34m\u001b[0m\u001b[0;34m\u001b[0m\u001b[0;34m\u001b[0m\u001b[0m\n\u001b[1;32m      4\u001b[0m     \u001b[0mflow\u001b[0m\u001b[0;34m.\u001b[0m\u001b[0mindex\u001b[0m\u001b[0;34m(\u001b[0m\u001b[0minputs\u001b[0m\u001b[0;34m=\u001b[0m\u001b[0mdocs\u001b[0m\u001b[0;34m)\u001b[0m\u001b[0;34m\u001b[0m\u001b[0;34m\u001b[0m\u001b[0m\n\u001b[1;32m      5\u001b[0m     \u001b[0;31m# Create a Document containing our search term. In this case, we take it from user's input\u001b[0m\u001b[0;34m\u001b[0m\u001b[0;34m\u001b[0m\u001b[0;34m\u001b[0m\u001b[0m\n",
            "\u001b[0;32m/usr/local/lib/python3.7/dist-packages/jina/flow/base.py\u001b[0m in \u001b[0;36m__enter__\u001b[0;34m(self)\u001b[0m\n\u001b[1;32m   1130\u001b[0m     \u001b[0;32mdef\u001b[0m \u001b[0m__enter__\u001b[0m\u001b[0;34m(\u001b[0m\u001b[0mself\u001b[0m\u001b[0;34m)\u001b[0m\u001b[0;34m:\u001b[0m\u001b[0;34m\u001b[0m\u001b[0;34m\u001b[0m\u001b[0m\n\u001b[1;32m   1131\u001b[0m         \u001b[0;32mwith\u001b[0m \u001b[0mCatchAllCleanupContextManager\u001b[0m\u001b[0;34m(\u001b[0m\u001b[0mself\u001b[0m\u001b[0;34m)\u001b[0m\u001b[0;34m:\u001b[0m\u001b[0;34m\u001b[0m\u001b[0;34m\u001b[0m\u001b[0m\n\u001b[0;32m-> 1132\u001b[0;31m             \u001b[0;32mreturn\u001b[0m \u001b[0mself\u001b[0m\u001b[0;34m.\u001b[0m\u001b[0mstart\u001b[0m\u001b[0;34m(\u001b[0m\u001b[0;34m)\u001b[0m\u001b[0;34m\u001b[0m\u001b[0;34m\u001b[0m\u001b[0m\n\u001b[0m\u001b[1;32m   1133\u001b[0m \u001b[0;34m\u001b[0m\u001b[0m\n\u001b[1;32m   1134\u001b[0m     \u001b[0;32mdef\u001b[0m \u001b[0m__exit__\u001b[0m\u001b[0;34m(\u001b[0m\u001b[0mself\u001b[0m\u001b[0;34m,\u001b[0m \u001b[0mexc_type\u001b[0m\u001b[0;34m,\u001b[0m \u001b[0mexc_val\u001b[0m\u001b[0;34m,\u001b[0m \u001b[0mexc_tb\u001b[0m\u001b[0;34m)\u001b[0m\u001b[0;34m:\u001b[0m\u001b[0;34m\u001b[0m\u001b[0;34m\u001b[0m\u001b[0m\n",
            "\u001b[0;32m/usr/local/lib/python3.7/dist-packages/jina/flow/base.py\u001b[0m in \u001b[0;36mstart\u001b[0;34m(self)\u001b[0m\n\u001b[1;32m   1179\u001b[0m                 \u001b[0mself\u001b[0m\u001b[0;34m.\u001b[0m\u001b[0menter_context\u001b[0m\u001b[0;34m(\u001b[0m\u001b[0mv\u001b[0m\u001b[0;34m)\u001b[0m\u001b[0;34m\u001b[0m\u001b[0;34m\u001b[0m\u001b[0m\n\u001b[1;32m   1180\u001b[0m \u001b[0;34m\u001b[0m\u001b[0m\n\u001b[0;32m-> 1181\u001b[0;31m         \u001b[0mself\u001b[0m\u001b[0;34m.\u001b[0m\u001b[0m_wait_until_all_ready\u001b[0m\u001b[0;34m(\u001b[0m\u001b[0;34m)\u001b[0m\u001b[0;34m\u001b[0m\u001b[0;34m\u001b[0m\u001b[0m\n\u001b[0m\u001b[1;32m   1182\u001b[0m \u001b[0;34m\u001b[0m\u001b[0m\n\u001b[1;32m   1183\u001b[0m         \u001b[0mself\u001b[0m\u001b[0;34m.\u001b[0m\u001b[0m_build_level\u001b[0m \u001b[0;34m=\u001b[0m \u001b[0mFlowBuildLevel\u001b[0m\u001b[0;34m.\u001b[0m\u001b[0mRUNNING\u001b[0m\u001b[0;34m\u001b[0m\u001b[0;34m\u001b[0m\u001b[0m\n",
            "\u001b[0;32m/usr/local/lib/python3.7/dist-packages/jina/flow/base.py\u001b[0m in \u001b[0;36m_wait_until_all_ready\u001b[0;34m(self)\u001b[0m\n\u001b[1;32m   1263\u001b[0m             )\n\u001b[1;32m   1264\u001b[0m             \u001b[0mself\u001b[0m\u001b[0;34m.\u001b[0m\u001b[0mclose\u001b[0m\u001b[0;34m(\u001b[0m\u001b[0;34m)\u001b[0m\u001b[0;34m\u001b[0m\u001b[0;34m\u001b[0m\u001b[0m\n\u001b[0;32m-> 1265\u001b[0;31m             \u001b[0;32mraise\u001b[0m \u001b[0mRuntimeFailToStart\u001b[0m\u001b[0;34m\u001b[0m\u001b[0;34m\u001b[0m\u001b[0m\n\u001b[0m\u001b[1;32m   1266\u001b[0m         \u001b[0;32melse\u001b[0m\u001b[0;34m:\u001b[0m\u001b[0;34m\u001b[0m\u001b[0;34m\u001b[0m\u001b[0m\n\u001b[1;32m   1267\u001b[0m \u001b[0;34m\u001b[0m\u001b[0m\n",
            "\u001b[0;31mRuntimeFailToStart\u001b[0m: "
          ]
        }
      ]
    },
    {
      "cell_type": "code",
      "source": [
        ""
      ],
      "metadata": {
        "id": "a3es0kpfpsI0"
      },
      "execution_count": null,
      "outputs": []
    }
  ]
}